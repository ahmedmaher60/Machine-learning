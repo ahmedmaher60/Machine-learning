{
 "cells": [
  {
   "cell_type": "code",
   "execution_count": 2,
   "id": "e10f2dd1",
   "metadata": {},
   "outputs": [],
   "source": [
    "import pandas as pd\n",
    "import matplotlib.pyplot as plt\n",
    "from sklearn.cluster import KMeans"
   ]
  },
  {
   "cell_type": "code",
   "execution_count": 5,
   "id": "dd4721ce",
   "metadata": {},
   "outputs": [],
   "source": [
    "df = pd.read_csv('C://Users//AHMED//Documents//Machine Learning//SKlearn_files-master//Data//2.6 K-Means//data.csv')"
   ]
  },
  {
   "cell_type": "code",
   "execution_count": 6,
   "id": "1e6389e8",
   "metadata": {},
   "outputs": [
    {
     "data": {
      "text/html": [
       "<div>\n",
       "<style scoped>\n",
       "    .dataframe tbody tr th:only-of-type {\n",
       "        vertical-align: middle;\n",
       "    }\n",
       "\n",
       "    .dataframe tbody tr th {\n",
       "        vertical-align: top;\n",
       "    }\n",
       "\n",
       "    .dataframe thead th {\n",
       "        text-align: right;\n",
       "    }\n",
       "</style>\n",
       "<table border=\"1\" class=\"dataframe\">\n",
       "  <thead>\n",
       "    <tr style=\"text-align: right;\">\n",
       "      <th></th>\n",
       "      <th>0</th>\n",
       "      <th>1</th>\n",
       "      <th>2</th>\n",
       "      <th>3</th>\n",
       "      <th>4</th>\n",
       "      <th>5</th>\n",
       "      <th>6</th>\n",
       "      <th>7</th>\n",
       "    </tr>\n",
       "  </thead>\n",
       "  <tbody>\n",
       "    <tr>\n",
       "      <th>0</th>\n",
       "      <td>-2.084839</td>\n",
       "      <td>-0.471673</td>\n",
       "      <td>-0.955542</td>\n",
       "      <td>-0.567288</td>\n",
       "      <td>-0.953226</td>\n",
       "      <td>-1.510386</td>\n",
       "      <td>0.921728</td>\n",
       "      <td>0.437954</td>\n",
       "    </tr>\n",
       "    <tr>\n",
       "      <th>1</th>\n",
       "      <td>0.003700</td>\n",
       "      <td>-0.999118</td>\n",
       "      <td>0.202003</td>\n",
       "      <td>1.612001</td>\n",
       "      <td>-0.375642</td>\n",
       "      <td>0.378518</td>\n",
       "      <td>0.113693</td>\n",
       "      <td>1.718011</td>\n",
       "    </tr>\n",
       "    <tr>\n",
       "      <th>2</th>\n",
       "      <td>-1.456240</td>\n",
       "      <td>0.483522</td>\n",
       "      <td>-0.508605</td>\n",
       "      <td>-0.316406</td>\n",
       "      <td>-1.695560</td>\n",
       "      <td>-1.943310</td>\n",
       "      <td>0.299486</td>\n",
       "      <td>0.147370</td>\n",
       "    </tr>\n",
       "    <tr>\n",
       "      <th>3</th>\n",
       "      <td>-1.595524</td>\n",
       "      <td>-0.219744</td>\n",
       "      <td>1.039403</td>\n",
       "      <td>0.381587</td>\n",
       "      <td>0.109094</td>\n",
       "      <td>-0.155068</td>\n",
       "      <td>0.156054</td>\n",
       "      <td>0.007314</td>\n",
       "    </tr>\n",
       "    <tr>\n",
       "      <th>4</th>\n",
       "      <td>0.995277</td>\n",
       "      <td>-1.517259</td>\n",
       "      <td>-0.101198</td>\n",
       "      <td>1.415742</td>\n",
       "      <td>-0.054356</td>\n",
       "      <td>0.611216</td>\n",
       "      <td>0.196938</td>\n",
       "      <td>0.641809</td>\n",
       "    </tr>\n",
       "    <tr>\n",
       "      <th>...</th>\n",
       "      <td>...</td>\n",
       "      <td>...</td>\n",
       "      <td>...</td>\n",
       "      <td>...</td>\n",
       "      <td>...</td>\n",
       "      <td>...</td>\n",
       "      <td>...</td>\n",
       "      <td>...</td>\n",
       "    </tr>\n",
       "    <tr>\n",
       "      <th>1304</th>\n",
       "      <td>-0.862703</td>\n",
       "      <td>0.104828</td>\n",
       "      <td>1.984113</td>\n",
       "      <td>-2.026618</td>\n",
       "      <td>-1.723234</td>\n",
       "      <td>1.355618</td>\n",
       "      <td>0.019176</td>\n",
       "      <td>0.361044</td>\n",
       "    </tr>\n",
       "    <tr>\n",
       "      <th>1305</th>\n",
       "      <td>0.299519</td>\n",
       "      <td>2.404711</td>\n",
       "      <td>-0.473917</td>\n",
       "      <td>0.539437</td>\n",
       "      <td>0.144996</td>\n",
       "      <td>1.079460</td>\n",
       "      <td>-0.593131</td>\n",
       "      <td>0.062784</td>\n",
       "    </tr>\n",
       "    <tr>\n",
       "      <th>1306</th>\n",
       "      <td>1.983708</td>\n",
       "      <td>-2.251345</td>\n",
       "      <td>-0.891493</td>\n",
       "      <td>0.934429</td>\n",
       "      <td>0.553115</td>\n",
       "      <td>1.194912</td>\n",
       "      <td>0.344667</td>\n",
       "      <td>-1.039349</td>\n",
       "    </tr>\n",
       "    <tr>\n",
       "      <th>1307</th>\n",
       "      <td>0.369343</td>\n",
       "      <td>3.529447</td>\n",
       "      <td>-0.542355</td>\n",
       "      <td>-1.130391</td>\n",
       "      <td>0.468369</td>\n",
       "      <td>-0.998843</td>\n",
       "      <td>0.550265</td>\n",
       "      <td>0.041131</td>\n",
       "    </tr>\n",
       "    <tr>\n",
       "      <th>1308</th>\n",
       "      <td>-2.118941</td>\n",
       "      <td>-0.456731</td>\n",
       "      <td>-1.179383</td>\n",
       "      <td>-0.667595</td>\n",
       "      <td>-1.091675</td>\n",
       "      <td>-1.680951</td>\n",
       "      <td>0.895348</td>\n",
       "      <td>0.496857</td>\n",
       "    </tr>\n",
       "  </tbody>\n",
       "</table>\n",
       "<p>1309 rows × 8 columns</p>\n",
       "</div>"
      ],
      "text/plain": [
       "             0         1         2         3         4         5         6  \\\n",
       "0    -2.084839 -0.471673 -0.955542 -0.567288 -0.953226 -1.510386  0.921728   \n",
       "1     0.003700 -0.999118  0.202003  1.612001 -0.375642  0.378518  0.113693   \n",
       "2    -1.456240  0.483522 -0.508605 -0.316406 -1.695560 -1.943310  0.299486   \n",
       "3    -1.595524 -0.219744  1.039403  0.381587  0.109094 -0.155068  0.156054   \n",
       "4     0.995277 -1.517259 -0.101198  1.415742 -0.054356  0.611216  0.196938   \n",
       "...        ...       ...       ...       ...       ...       ...       ...   \n",
       "1304 -0.862703  0.104828  1.984113 -2.026618 -1.723234  1.355618  0.019176   \n",
       "1305  0.299519  2.404711 -0.473917  0.539437  0.144996  1.079460 -0.593131   \n",
       "1306  1.983708 -2.251345 -0.891493  0.934429  0.553115  1.194912  0.344667   \n",
       "1307  0.369343  3.529447 -0.542355 -1.130391  0.468369 -0.998843  0.550265   \n",
       "1308 -2.118941 -0.456731 -1.179383 -0.667595 -1.091675 -1.680951  0.895348   \n",
       "\n",
       "             7  \n",
       "0     0.437954  \n",
       "1     1.718011  \n",
       "2     0.147370  \n",
       "3     0.007314  \n",
       "4     0.641809  \n",
       "...        ...  \n",
       "1304  0.361044  \n",
       "1305  0.062784  \n",
       "1306 -1.039349  \n",
       "1307  0.041131  \n",
       "1308  0.496857  \n",
       "\n",
       "[1309 rows x 8 columns]"
      ]
     },
     "execution_count": 6,
     "metadata": {},
     "output_type": "execute_result"
    }
   ],
   "source": [
    "df"
   ]
  },
  {
   "cell_type": "code",
   "execution_count": 7,
   "id": "a16ad06d",
   "metadata": {},
   "outputs": [
    {
     "name": "stdout",
     "output_type": "stream",
     "text": [
      "<class 'pandas.core.frame.DataFrame'>\n",
      "RangeIndex: 1309 entries, 0 to 1308\n",
      "Data columns (total 8 columns):\n",
      " #   Column  Non-Null Count  Dtype  \n",
      "---  ------  --------------  -----  \n",
      " 0   0       1309 non-null   float64\n",
      " 1   1       1309 non-null   float64\n",
      " 2   2       1309 non-null   float64\n",
      " 3   3       1309 non-null   float64\n",
      " 4   4       1309 non-null   float64\n",
      " 5   5       1309 non-null   float64\n",
      " 6   6       1309 non-null   float64\n",
      " 7   7       1309 non-null   float64\n",
      "dtypes: float64(8)\n",
      "memory usage: 81.9 KB\n"
     ]
    }
   ],
   "source": [
    "df.info()"
   ]
  },
  {
   "cell_type": "code",
   "execution_count": 8,
   "id": "92bd7289",
   "metadata": {},
   "outputs": [
    {
     "data": {
      "text/plain": [
       "0    0\n",
       "1    0\n",
       "2    0\n",
       "3    0\n",
       "4    0\n",
       "5    0\n",
       "6    0\n",
       "7    0\n",
       "dtype: int64"
      ]
     },
     "execution_count": 8,
     "metadata": {},
     "output_type": "execute_result"
    }
   ],
   "source": [
    "df.isnull().sum()"
   ]
  },
  {
   "cell_type": "code",
   "execution_count": 12,
   "id": "fbd2c3c1",
   "metadata": {},
   "outputs": [],
   "source": [
    "X = df.iloc[:500,:].values"
   ]
  },
  {
   "cell_type": "code",
   "execution_count": 14,
   "id": "0ebdb1f6",
   "metadata": {},
   "outputs": [
    {
     "data": {
      "text/plain": [
       "(500, 8)"
      ]
     },
     "execution_count": 14,
     "metadata": {},
     "output_type": "execute_result"
    }
   ],
   "source": [
    "X.shape"
   ]
  },
  {
   "cell_type": "code",
   "execution_count": 19,
   "id": "62cf0f33",
   "metadata": {},
   "outputs": [
    {
     "name": "stderr",
     "output_type": "stream",
     "text": [
      "C:\\Users\\AHMED\\anaconda3\\lib\\site-packages\\sklearn\\cluster\\_kmeans.py:1036: UserWarning: KMeans is known to have a memory leak on Windows with MKL, when there are less chunks than available threads. You can avoid it by setting the environment variable OMP_NUM_THREADS=2.\n",
      "  warnings.warn(\n"
     ]
    },
    {
     "data": {
      "image/png": "[encoded data removed]",
      "text/plain": [
       "<Figure size 432x288 with 1 Axes>"
      ]
     },
     "metadata": {
      "needs_background": "light"
     },
     "output_type": "display_data"
    }
   ],
   "source": [
    "J = []\n",
    "for k in range(1, 9):\n",
    "    kmeans = KMeans(n_clusters=k)\n",
    "    kmeans.fit(X)\n",
    "    J.append(kmeans.inertia_)\n",
    "\n",
    "# Plotting the elbow method\n",
    "plt.plot(range(1, 9), J)\n",
    "plt.xlabel(\"Number of clusters\")\n",
    "plt.ylabel(\"SSE\")\n",
    "plt.grid()\n",
    "plt.show()"
   ]
  },
  {
   "cell_type": "code",
   "execution_count": 20,
   "id": "88b0eeac",
   "metadata": {},
   "outputs": [
    {
     "data": {
      "text/plain": [
       "KMeans(init='random', n_clusters=3)"
      ]
     },
     "execution_count": 20,
     "metadata": {},
     "output_type": "execute_result"
    }
   ],
   "source": [
    "# Fitting the K-Means model to the data\n",
    "kmeans = KMeans(n_clusters=3,init='random',max_iter = 300)\n",
    "kmeans.fit(X)"
   ]
  },
  {
   "cell_type": "code",
   "execution_count": 21,
   "id": "8c1454d8",
   "metadata": {},
   "outputs": [],
   "source": [
    "# Getting the cluster labels for each data point\n",
    "labels = kmeans.labels_"
   ]
  },
  {
   "cell_type": "code",
   "execution_count": 22,
   "id": "a3a5342b",
   "metadata": {},
   "outputs": [
    {
     "data": {
      "image/png": "[encoded data removed]",
      "text/plain": [
       "<Figure size 432x288 with 1 Axes>"
      ]
     },
     "metadata": {
      "needs_background": "light"
     },
     "output_type": "display_data"
    }
   ],
   "source": [
    "# Plotting the data points and color-coding them based on the assigned clusters\n",
    "plt.scatter(X[:, 0], X[:, 1], c=labels)\n",
    "plt.show()"
   ]
  },
  {
   "cell_type": "code",
   "execution_count": 23,
   "id": "c6f3238c",
   "metadata": {},
   "outputs": [
    {
     "data": {
      "text/plain": [
       "<matplotlib.collections.PathCollection at 0x2a02fe9b850>"
      ]
     },
     "execution_count": 23,
     "metadata": {},
     "output_type": "execute_result"
    },
    {
     "data": {
      "image/png": "[encoded data removed]",
      "text/plain": [
       "<Figure size 432x288 with 1 Axes>"
      ]
     },
     "metadata": {
      "needs_background": "light"
     },
     "output_type": "display_data"
    }
   ],
   "source": [
    "# Plotting the centroids of the clusters\n",
    "plt.scatter(kmeans.cluster_centers_[:, 0], kmeans.cluster_centers_[:, 1], marker='x', s=200, linewidths=3, color='r')\n"
   ]
  },
  {
   "cell_type": "code",
   "execution_count": 24,
   "id": "84462f24",
   "metadata": {},
   "outputs": [
    {
     "name": "stdout",
     "output_type": "stream",
     "text": [
      "KMeansModel centers are :  [[ 1.81243149  2.50115666 -0.21793303 -0.18696749  0.27586941 -0.20149883\n",
      "   0.22885868  0.31698102]\n",
      " [ 1.70997922 -1.51730979  0.30419527  0.14548153 -0.21654305  0.0649761\n",
      "  -0.12110513  0.05167465]\n",
      " [-1.46579568 -0.2819796  -0.11732056 -0.02293839  0.01460277  0.05776413\n",
      "  -0.04446403 -0.12038014]]\n"
     ]
    }
   ],
   "source": [
    "print('KMeansModel centers are : ', kmeans.cluster_centers_)"
   ]
  },
  {
   "cell_type": "code",
   "execution_count": 25,
   "id": "e30e2395",
   "metadata": {},
   "outputs": [
    {
     "name": "stdout",
     "output_type": "stream",
     "text": [
      "KMeansModel intertia is :  3434.837473958735\n"
     ]
    }
   ],
   "source": [
    "print('KMeansModel intertia is : ' , kmeans.inertia_)"
   ]
  },
  {
   "cell_type": "code",
   "execution_count": null,
   "id": "d9ce764e",
   "metadata": {},
   "outputs": [],
   "source": []
  },
  {
   "cell_type": "code",
   "execution_count": null,
   "id": "194a2c49",
   "metadata": {},
   "outputs": [],
   "source": []
  }
 ],
 "metadata": {
  "kernelspec": {
   "display_name": "Python 3 (ipykernel)",
   "language": "python",
   "name": "python3"
  },
  "language_info": {
   "codemirror_mode": {
    "name": "ipython",
    "version": 3
   },
   "file_extension": ".py",
   "mimetype": "text/x-python",
   "name": "python",
   "nbconvert_exporter": "python",
   "pygments_lexer": "ipython3",
   "version": "3.9.12"
  }
 },
 "nbformat": 4,
 "nbformat_minor": 5
}
